{
 "cells": [
  {
   "attachments": {},
   "cell_type": "markdown",
   "metadata": {},
   "source": [
    "# Session 8 - Language modelling with RNNs (Text Generation)"
   ]
  },
  {
   "cell_type": "code",
   "execution_count": 1,
   "metadata": {},
   "outputs": [
    {
     "name": "stderr",
     "output_type": "stream",
     "text": [
      "2023-03-22 10:43:12.057621: I tensorflow/core/platform/cpu_feature_guard.cc:193] This TensorFlow binary is optimized with oneAPI Deep Neural Network Library (oneDNN) to use the following CPU instructions in performance-critical operations:  AVX2 AVX512F FMA\n",
      "To enable them in other operations, rebuild TensorFlow with the appropriate compiler flags.\n"
     ]
    }
   ],
   "source": [
    "# data processing tools\n",
    "import string, os \n",
    "import pandas as pd\n",
    "import numpy as np\n",
    "np.random.seed(42)\n",
    "\n",
    "# keras module for building LSTM \n",
    "import tensorflow as tf\n",
    "tf.random.set_seed(42)\n",
    "import tensorflow.keras.utils as ku \n",
    "from tensorflow.keras.models import Sequential\n",
    "from tensorflow.keras.preprocessing.text import Tokenizer\n",
    "from tensorflow.keras.preprocessing.sequence import pad_sequences\n",
    "from tensorflow.keras.layers import Embedding, LSTM, Dense, Dropout\n",
    "\n",
    "# surpress warnings\n",
    "import warnings\n",
    "warnings.filterwarnings(\"ignore\")\n",
    "warnings.simplefilter(action='ignore', category=FutureWarning)"
   ]
  },
  {
   "attachments": {},
   "cell_type": "markdown",
   "metadata": {},
   "source": [
    "## Some helper functions"
   ]
  },
  {
   "cell_type": "code",
   "execution_count": 2,
   "metadata": {},
   "outputs": [],
   "source": [
    "def clean_text(txt):\n",
    "    txt = \"\".join(v for v in txt if v not in string.punctuation).lower()\n",
    "    txt = txt.encode(\"utf8\").decode(\"ascii\",'ignore')\n",
    "    return txt \n",
    "\n",
    "def get_sequence_of_tokens(tokenizer, corpus):\n",
    "    ## convert data to sequence of tokens \n",
    "    input_sequences = []\n",
    "    for line in corpus:\n",
    "        token_list = tokenizer.texts_to_sequences([line])[0]\n",
    "        for i in range(1, len(token_list)):\n",
    "            n_gram_sequence = token_list[:i+1]\n",
    "            input_sequences.append(n_gram_sequence)\n",
    "    return input_sequences\n",
    "\n",
    "def generate_padded_sequences(input_sequences):\n",
    "    # get the length of the longest sequence\n",
    "    max_sequence_len = max([len(x) for x in input_sequences])\n",
    "    # make every sequence the length of the longest on\n",
    "    input_sequences = np.array(pad_sequences(input_sequences, \n",
    "                                            maxlen=max_sequence_len, \n",
    "                                            padding='pre'))\n",
    "\n",
    "    predictors, label = input_sequences[:,:-1],input_sequences[:,-1]\n",
    "    label = ku.to_categorical(label, \n",
    "                            num_classes=total_words)\n",
    "    return predictors, label, max_sequence_len\n",
    "\n",
    "def create_model(max_sequence_len, total_words):\n",
    "    input_len = max_sequence_len - 1\n",
    "    model = Sequential()\n",
    "    \n",
    "    # Add Input Embedding Layer\n",
    "    model.add(Embedding(total_words, \n",
    "                        10, \n",
    "                        input_length=input_len))\n",
    "    \n",
    "    # Add Hidden Layer 1 - LSTM Layer\n",
    "    model.add(LSTM(100))\n",
    "    model.add(Dropout(0.1))\n",
    "    \n",
    "    # Add Output Layer\n",
    "    model.add(Dense(total_words, \n",
    "                    activation='softmax'))\n",
    "\n",
    "    model.compile(loss='categorical_crossentropy', \n",
    "                    optimizer='adam')\n",
    "    \n",
    "    return model\n",
    "\n",
    "def generate_text(seed_text, next_words, model, max_sequence_len):\n",
    "    for _ in range(next_words):\n",
    "        token_list = tokenizer.texts_to_sequences([seed_text])[0]\n",
    "        token_list = pad_sequences([token_list], \n",
    "                                    maxlen=max_sequence_len-1, \n",
    "                                    padding='pre')\n",
    "        predicted = np.argmax(model.predict(token_list),\n",
    "                                            axis=1)\n",
    "        \n",
    "        output_word = \"\"\n",
    "        for word,index in tokenizer.word_index.items():\n",
    "            if index == predicted:\n",
    "                output_word = word\n",
    "                break\n",
    "        seed_text += \" \"+output_word\n",
    "    return seed_text.title()"
   ]
  },
  {
   "attachments": {},
   "cell_type": "markdown",
   "metadata": {},
   "source": [
    "## Load the data"
   ]
  },
  {
   "cell_type": "code",
   "execution_count": 13,
   "metadata": {},
   "outputs": [],
   "source": [
    "data_dir = os.path.join(\"../../431868/news_data\")"
   ]
  },
  {
   "attachments": {},
   "cell_type": "markdown",
   "metadata": {},
   "source": [
    "We're then going to load the data one at a time and append *only* the headlines to our list of data."
   ]
  },
  {
   "cell_type": "code",
   "execution_count": 15,
   "metadata": {},
   "outputs": [],
   "source": [
    "all_headlines = []\n",
    "for filename in os.listdir(data_dir):\n",
    "    if 'Articles' in filename:\n",
    "        article_df = pd.read_csv(data_dir + \"/\" + filename)\n",
    "        all_headlines.extend(list(article_df[\"headline\"].values))"
   ]
  },
  {
   "attachments": {},
   "cell_type": "markdown",
   "metadata": {},
   "source": [
    "We then clean up a little bit and see how many data points we have."
   ]
  },
  {
   "cell_type": "code",
   "execution_count": 16,
   "metadata": {},
   "outputs": [
    {
     "data": {
      "text/plain": [
       "8603"
      ]
     },
     "execution_count": 16,
     "metadata": {},
     "output_type": "execute_result"
    }
   ],
   "source": [
    "all_headlines = [h for h in all_headlines if h != \"Unknown\"]\n",
    "len(all_headlines)"
   ]
  },
  {
   "attachments": {},
   "cell_type": "markdown",
   "metadata": {},
   "source": [
    "We call out ```clean_text()``` function and then inspect the first 10 texts."
   ]
  },
  {
   "cell_type": "code",
   "execution_count": 17,
   "metadata": {},
   "outputs": [
    {
     "data": {
      "text/plain": [
       "['my beijing the sacred city',\n",
       " '6 million riders a day 1930s technology',\n",
       " 'seeking a crossborder conference',\n",
       " 'questions for despite the yuck factor leeches are big in russian medicine',\n",
       " 'who is a criminal',\n",
       " 'an antidote to europes populism',\n",
       " 'the cost of a speech',\n",
       " 'degradation of the language',\n",
       " 'on the power of being awful',\n",
       " 'trump garbles pitch on a revised health bill']"
      ]
     },
     "execution_count": 17,
     "metadata": {},
     "output_type": "execute_result"
    }
   ],
   "source": [
    "corpus = [clean_text(x) for x in all_headlines]\n",
    "corpus[:10]"
   ]
  },
  {
   "attachments": {},
   "cell_type": "markdown",
   "metadata": {},
   "source": [
    "## Tokenize\n",
    "\n",
    "We're then going to tokenize our data, using the ```Tokenizer()``` class from ```TensorFlow```, about which you can read more [here](https://www.tensorflow.org/api_docs/python/tf/keras/preprocessing/text/Tokenizer).\n",
    "\n",
    "We then use the ```get_sequence_of_tokens()``` function we defined above, which turns every text into a sequence of tokens based on the vocabulary from the tokenizer."
   ]
  },
  {
   "cell_type": "code",
   "execution_count": 18,
   "metadata": {},
   "outputs": [],
   "source": [
    "tokenizer = Tokenizer()\n",
    "## tokenization\n",
    "tokenizer.fit_on_texts(corpus)\n",
    "total_words = len(tokenizer.word_index) + 1"
   ]
  },
  {
   "cell_type": "code",
   "execution_count": 19,
   "metadata": {},
   "outputs": [
    {
     "data": {
      "text/plain": [
       "[[46, 1601],\n",
       " [46, 1601, 1],\n",
       " [46, 1601, 1, 1951],\n",
       " [46, 1601, 1, 1951, 120],\n",
       " [122, 331],\n",
       " [122, 331, 1952],\n",
       " [122, 331, 1952, 2],\n",
       " [122, 331, 1952, 2, 125],\n",
       " [122, 331, 1952, 2, 125, 2484],\n",
       " [122, 331, 1952, 2, 125, 2484, 812]]"
      ]
     },
     "execution_count": 19,
     "metadata": {},
     "output_type": "execute_result"
    }
   ],
   "source": [
    "inp_sequences = get_sequence_of_tokens(tokenizer, corpus)\n",
    "inp_sequences[:10]"
   ]
  },
  {
   "attachments": {},
   "cell_type": "markdown",
   "metadata": {},
   "source": [
    "We then want to *pad* our input sequences to make them all the same length."
   ]
  },
  {
   "cell_type": "code",
   "execution_count": 20,
   "metadata": {},
   "outputs": [],
   "source": [
    "predictors, label, max_sequence_len = generate_padded_sequences(inp_sequences)"
   ]
  },
  {
   "attachments": {},
   "cell_type": "markdown",
   "metadata": {},
   "source": [
    "## Create model"
   ]
  },
  {
   "attachments": {},
   "cell_type": "markdown",
   "metadata": {},
   "source": [
    "We then use the ```create_model()``` function created above to initialize a model, telling the model the length of sequences and the total size of the vocabulary."
   ]
  },
  {
   "cell_type": "code",
   "execution_count": 21,
   "metadata": {},
   "outputs": [
    {
     "name": "stderr",
     "output_type": "stream",
     "text": [
      "2023-03-22 10:56:38.374316: I tensorflow/core/platform/cpu_feature_guard.cc:193] This TensorFlow binary is optimized with oneAPI Deep Neural Network Library (oneDNN) to use the following CPU instructions in performance-critical operations:  AVX2 AVX512F FMA\n",
      "To enable them in other operations, rebuild TensorFlow with the appropriate compiler flags.\n"
     ]
    },
    {
     "name": "stdout",
     "output_type": "stream",
     "text": [
      "Model: \"sequential\"\n",
      "_________________________________________________________________\n",
      " Layer (type)                Output Shape              Param #   \n",
      "=================================================================\n",
      " embedding (Embedding)       (None, 23, 10)            112650    \n",
      "                                                                 \n",
      " lstm (LSTM)                 (None, 100)               44400     \n",
      "                                                                 \n",
      " dropout (Dropout)           (None, 100)               0         \n",
      "                                                                 \n",
      " dense (Dense)               (None, 11265)             1137765   \n",
      "                                                                 \n",
      "=================================================================\n",
      "Total params: 1,294,815\n",
      "Trainable params: 1,294,815\n",
      "Non-trainable params: 0\n",
      "_________________________________________________________________\n"
     ]
    }
   ],
   "source": [
    "model = create_model(max_sequence_len, total_words)\n",
    "model.summary()"
   ]
  },
  {
   "attachments": {},
   "cell_type": "markdown",
   "metadata": {},
   "source": [
    "Model training is exactly the same as last week, but instead of document labels, we're fitting the model to predict next word.\n",
    "\n",
    "*NB!* This will take some time to train! It took me 35 minutes on UCloud 32xCPU."
   ]
  },
  {
   "cell_type": "code",
   "execution_count": 22,
   "metadata": {},
   "outputs": [
    {
     "name": "stdout",
     "output_type": "stream",
     "text": [
      "Epoch 1/100\n",
      "405/405 [==============================] - 21s 47ms/step - loss: 7.8850\n",
      "Epoch 2/100\n",
      "405/405 [==============================] - 18s 45ms/step - loss: 7.4806\n",
      "Epoch 3/100\n",
      "405/405 [==============================] - 18s 46ms/step - loss: 7.3990\n",
      "Epoch 4/100\n",
      "405/405 [==============================] - 18s 45ms/step - loss: 7.3210\n",
      "Epoch 5/100\n",
      "405/405 [==============================] - 18s 45ms/step - loss: 7.2258\n",
      "Epoch 6/100\n",
      "405/405 [==============================] - 18s 45ms/step - loss: 7.1152\n",
      "Epoch 7/100\n",
      "405/405 [==============================] - 18s 44ms/step - loss: 6.9999\n",
      "Epoch 8/100\n",
      "405/405 [==============================] - 18s 45ms/step - loss: 6.8766\n",
      "Epoch 9/100\n",
      "405/405 [==============================] - 18s 45ms/step - loss: 6.7492\n",
      "Epoch 10/100\n",
      "405/405 [==============================] - 18s 45ms/step - loss: 6.6228\n",
      "Epoch 11/100\n",
      "405/405 [==============================] - 18s 46ms/step - loss: 6.5001\n",
      "Epoch 12/100\n",
      "405/405 [==============================] - 18s 45ms/step - loss: 6.3823\n",
      "Epoch 13/100\n",
      "405/405 [==============================] - 18s 44ms/step - loss: 6.2624\n",
      "Epoch 14/100\n",
      "405/405 [==============================] - 18s 44ms/step - loss: 6.1512\n",
      "Epoch 15/100\n",
      "405/405 [==============================] - 18s 44ms/step - loss: 6.0379\n",
      "Epoch 16/100\n",
      "405/405 [==============================] - 18s 44ms/step - loss: 5.9246\n",
      "Epoch 17/100\n",
      "405/405 [==============================] - 18s 44ms/step - loss: 5.8174\n",
      "Epoch 18/100\n",
      "405/405 [==============================] - 18s 44ms/step - loss: 5.7113\n",
      "Epoch 19/100\n",
      "405/405 [==============================] - 18s 44ms/step - loss: 5.6066\n",
      "Epoch 20/100\n",
      "405/405 [==============================] - 18s 44ms/step - loss: 5.5028\n",
      "Epoch 21/100\n",
      "405/405 [==============================] - 18s 44ms/step - loss: 5.4049\n",
      "Epoch 22/100\n",
      "405/405 [==============================] - 18s 44ms/step - loss: 5.3052\n",
      "Epoch 23/100\n",
      "405/405 [==============================] - 18s 44ms/step - loss: 5.2132\n",
      "Epoch 24/100\n",
      "405/405 [==============================] - 18s 44ms/step - loss: 5.1213\n",
      "Epoch 25/100\n",
      "405/405 [==============================] - 18s 44ms/step - loss: 5.0303\n",
      "Epoch 26/100\n",
      "405/405 [==============================] - 18s 44ms/step - loss: 4.9446\n",
      "Epoch 27/100\n",
      "405/405 [==============================] - 18s 44ms/step - loss: 4.8590\n",
      "Epoch 28/100\n",
      "405/405 [==============================] - 18s 44ms/step - loss: 4.7806\n",
      "Epoch 29/100\n",
      "405/405 [==============================] - 18s 44ms/step - loss: 4.7028\n",
      "Epoch 30/100\n",
      "405/405 [==============================] - 18s 44ms/step - loss: 4.6275\n",
      "Epoch 31/100\n",
      "405/405 [==============================] - 18s 44ms/step - loss: 4.5561\n",
      "Epoch 32/100\n",
      "405/405 [==============================] - 18s 44ms/step - loss: 4.4881\n",
      "Epoch 33/100\n",
      "405/405 [==============================] - 18s 43ms/step - loss: 4.4195\n",
      "Epoch 34/100\n",
      "405/405 [==============================] - 18s 44ms/step - loss: 4.3589\n",
      "Epoch 35/100\n",
      "405/405 [==============================] - 18s 44ms/step - loss: 4.2934\n",
      "Epoch 36/100\n",
      "405/405 [==============================] - 18s 44ms/step - loss: 4.2389\n",
      "Epoch 37/100\n",
      "405/405 [==============================] - 18s 44ms/step - loss: 4.1785\n",
      "Epoch 38/100\n",
      "405/405 [==============================] - 18s 44ms/step - loss: 4.1258\n",
      "Epoch 39/100\n",
      "405/405 [==============================] - 18s 44ms/step - loss: 4.0767\n",
      "Epoch 40/100\n",
      "405/405 [==============================] - 18s 44ms/step - loss: 4.0220\n",
      "Epoch 41/100\n",
      "405/405 [==============================] - 18s 44ms/step - loss: 3.9729\n",
      "Epoch 42/100\n",
      "405/405 [==============================] - 18s 44ms/step - loss: 3.9292\n",
      "Epoch 43/100\n",
      "405/405 [==============================] - 18s 44ms/step - loss: 3.8840\n",
      "Epoch 44/100\n",
      "405/405 [==============================] - 18s 44ms/step - loss: 3.8407\n",
      "Epoch 45/100\n",
      "405/405 [==============================] - 18s 44ms/step - loss: 3.7959\n",
      "Epoch 46/100\n",
      "405/405 [==============================] - 18s 44ms/step - loss: 3.7576\n",
      "Epoch 47/100\n",
      "405/405 [==============================] - 18s 44ms/step - loss: 3.7148\n",
      "Epoch 48/100\n",
      "405/405 [==============================] - 18s 44ms/step - loss: 3.6817\n",
      "Epoch 49/100\n",
      "405/405 [==============================] - 18s 44ms/step - loss: 3.6411\n",
      "Epoch 50/100\n",
      "405/405 [==============================] - 18s 44ms/step - loss: 3.6039\n",
      "Epoch 51/100\n",
      "405/405 [==============================] - 18s 44ms/step - loss: 3.5684\n",
      "Epoch 52/100\n",
      "405/405 [==============================] - 18s 44ms/step - loss: 3.5330\n",
      "Epoch 53/100\n",
      "405/405 [==============================] - 18s 44ms/step - loss: 3.4967\n",
      "Epoch 54/100\n",
      "405/405 [==============================] - 18s 43ms/step - loss: 3.4661\n",
      "Epoch 55/100\n",
      "405/405 [==============================] - 18s 44ms/step - loss: 3.4322\n",
      "Epoch 56/100\n",
      "405/405 [==============================] - 18s 44ms/step - loss: 3.4048\n",
      "Epoch 57/100\n",
      "405/405 [==============================] - 18s 44ms/step - loss: 3.3663\n",
      "Epoch 58/100\n",
      "405/405 [==============================] - 18s 44ms/step - loss: 3.3415\n",
      "Epoch 59/100\n",
      "405/405 [==============================] - 18s 44ms/step - loss: 3.3117\n",
      "Epoch 60/100\n",
      "405/405 [==============================] - 18s 44ms/step - loss: 3.2835\n",
      "Epoch 61/100\n",
      "405/405 [==============================] - 18s 44ms/step - loss: 3.2543\n",
      "Epoch 62/100\n",
      "405/405 [==============================] - 18s 45ms/step - loss: 3.2271\n",
      "Epoch 63/100\n",
      "405/405 [==============================] - 18s 45ms/step - loss: 3.2035\n",
      "Epoch 64/100\n",
      "405/405 [==============================] - 18s 45ms/step - loss: 3.1767\n",
      "Epoch 65/100\n",
      "405/405 [==============================] - 18s 45ms/step - loss: 3.1458\n",
      "Epoch 66/100\n",
      "405/405 [==============================] - 18s 45ms/step - loss: 3.1222\n",
      "Epoch 67/100\n",
      "405/405 [==============================] - 18s 45ms/step - loss: 3.1015\n",
      "Epoch 68/100\n",
      "405/405 [==============================] - 18s 45ms/step - loss: 3.0807\n",
      "Epoch 69/100\n",
      "405/405 [==============================] - 18s 44ms/step - loss: 3.0556\n",
      "Epoch 70/100\n",
      "405/405 [==============================] - 18s 45ms/step - loss: 3.0263\n",
      "Epoch 71/100\n",
      "405/405 [==============================] - 18s 45ms/step - loss: 3.0074\n",
      "Epoch 72/100\n",
      "405/405 [==============================] - 18s 45ms/step - loss: 2.9891\n",
      "Epoch 73/100\n",
      "405/405 [==============================] - 18s 45ms/step - loss: 2.9637\n",
      "Epoch 74/100\n",
      "405/405 [==============================] - 18s 45ms/step - loss: 2.9472\n",
      "Epoch 75/100\n",
      "405/405 [==============================] - 18s 45ms/step - loss: 2.9213\n",
      "Epoch 76/100\n",
      "405/405 [==============================] - 18s 45ms/step - loss: 2.9024\n",
      "Epoch 77/100\n",
      "405/405 [==============================] - 18s 45ms/step - loss: 2.8834\n",
      "Epoch 78/100\n",
      "405/405 [==============================] - 18s 45ms/step - loss: 2.8631\n",
      "Epoch 79/100\n",
      "405/405 [==============================] - 18s 45ms/step - loss: 2.8468\n",
      "Epoch 80/100\n",
      "405/405 [==============================] - 18s 45ms/step - loss: 2.8236\n",
      "Epoch 81/100\n",
      "405/405 [==============================] - 18s 45ms/step - loss: 2.8055\n",
      "Epoch 82/100\n",
      "405/405 [==============================] - 18s 45ms/step - loss: 2.7859\n",
      "Epoch 83/100\n",
      "405/405 [==============================] - 18s 45ms/step - loss: 2.7729\n",
      "Epoch 84/100\n",
      "405/405 [==============================] - 18s 45ms/step - loss: 2.7589\n",
      "Epoch 85/100\n",
      "405/405 [==============================] - 19s 46ms/step - loss: 2.7417\n",
      "Epoch 86/100\n",
      "405/405 [==============================] - 19s 47ms/step - loss: 2.7196\n",
      "Epoch 87/100\n",
      "405/405 [==============================] - 19s 46ms/step - loss: 2.7036\n",
      "Epoch 88/100\n",
      "405/405 [==============================] - 19s 46ms/step - loss: 2.6911\n",
      "Epoch 89/100\n",
      "405/405 [==============================] - 19s 46ms/step - loss: 2.6714\n",
      "Epoch 90/100\n",
      "405/405 [==============================] - 19s 46ms/step - loss: 2.6542\n",
      "Epoch 91/100\n",
      "405/405 [==============================] - 19s 46ms/step - loss: 2.6378\n",
      "Epoch 92/100\n",
      "405/405 [==============================] - 19s 46ms/step - loss: 2.6265\n",
      "Epoch 93/100\n",
      "405/405 [==============================] - 19s 46ms/step - loss: 2.6154\n",
      "Epoch 94/100\n",
      "405/405 [==============================] - 19s 47ms/step - loss: 2.6012\n",
      "Epoch 95/100\n",
      "405/405 [==============================] - 19s 46ms/step - loss: 2.5818\n",
      "Epoch 96/100\n",
      "405/405 [==============================] - 19s 47ms/step - loss: 2.5705\n",
      "Epoch 97/100\n",
      "405/405 [==============================] - 19s 46ms/step - loss: 2.5618\n",
      "Epoch 98/100\n",
      "405/405 [==============================] - 19s 47ms/step - loss: 2.5442\n",
      "Epoch 99/100\n",
      "405/405 [==============================] - 19s 47ms/step - loss: 2.5329\n",
      "Epoch 100/100\n",
      "405/405 [==============================] - 19s 47ms/step - loss: 2.5154\n"
     ]
    }
   ],
   "source": [
    "history = model.fit(predictors, \n",
    "                    label, \n",
    "                    epochs=100,\n",
    "                    batch_size=128, \n",
    "                    verbose=1)"
   ]
  },
  {
   "attachments": {},
   "cell_type": "markdown",
   "metadata": {},
   "source": [
    "When the model has trained, we can then use this to generate *new text*."
   ]
  },
  {
   "cell_type": "code",
   "execution_count": 28,
   "metadata": {},
   "outputs": [
    {
     "name": "stdout",
     "output_type": "stream",
     "text": [
      "1/1 [==============================] - 0s 34ms/step\n",
      "1/1 [==============================] - 0s 33ms/step\n",
      "1/1 [==============================] - 0s 30ms/step\n",
      "1/1 [==============================] - 0s 37ms/step\n",
      "1/1 [==============================] - 0s 28ms/step\n",
      "1/1 [==============================] - 0s 30ms/step\n",
      "1/1 [==============================] - 0s 27ms/step\n",
      "Danish Inventor Is Found Guilty On Dirty Past\n"
     ]
    }
   ],
   "source": [
    "print (generate_text(\"danish\", 7, model, max_sequence_len))"
   ]
  },
  {
   "attachments": {},
   "cell_type": "markdown",
   "metadata": {},
   "source": [
    "## Using pre-trained word embeddings"
   ]
  },
  {
   "attachments": {},
   "cell_type": "markdown",
   "metadata": {},
   "source": [
    "Instead of having the embedding layer as a trainable parameter, we can instead using a *pretrained word embedding* model like ```word2vec```.\n",
    "\n",
    "In the following examples, we're using [GloVe embeddings](https://nlp.stanford.edu/projects/glove/). These are trained a little differently from ```word2vec``` but they behave in the same way."
   ]
  },
  {
   "cell_type": "code",
   "execution_count": 34,
   "metadata": {},
   "outputs": [
    {
     "name": "stdout",
     "output_type": "stream",
     "text": [
      "Found 400000 word vectors.\n"
     ]
    }
   ],
   "source": [
    "path_to_glove_file = os.path.join(\"../../431868/glove_models/glove.6B.100d.txt\")\n",
    "\n",
    "embeddings_index = {}\n",
    "with open(path_to_glove_file) as f:\n",
    "    for line in f:\n",
    "        word, coefs = line.split(maxsplit=1)\n",
    "        coefs = np.fromstring(coefs, \"f\", sep=\" \")\n",
    "        embeddings_index[word] = coefs\n",
    "\n",
    "print(\"Found %s word vectors.\" % len(embeddings_index))"
   ]
  },
  {
   "attachments": {},
   "cell_type": "markdown",
   "metadata": {},
   "source": [
    "We can define some variables that we're going to use later.\n",
    "\n",
    "With hits and misses, we're counting how many words in the corpus vocabulary have a corresponding GloVe embedding; misses are the words which appear in our vocabulary but which do not have a GloVe embedding."
   ]
  },
  {
   "cell_type": "code",
   "execution_count": null,
   "metadata": {},
   "outputs": [],
   "source": [
    "num_tokens = total_words\n",
    "embedding_dim = 100\n",
    "hits = 0\n",
    "misses = 0"
   ]
  },
  {
   "cell_type": "code",
   "execution_count": null,
   "metadata": {},
   "outputs": [],
   "source": [
    "# Prepare embedding matrix\n",
    "embedding_matrix = np.zeros((num_tokens, embedding_dim))\n",
    "for word, i in tokenizer.word_index.items():\n",
    "    embedding_vector = embeddings_index.get(word)\n",
    "    if embedding_vector is not None:\n",
    "        # Words not found in embedding index will be all-zeros.\n",
    "        # This includes the representation for \"padding\" and \"OOV\"\n",
    "        embedding_matrix[i] = embedding_vector\n",
    "        hits += 1\n",
    "    else:\n",
    "        misses += 1\n",
    "print(\"Converted %d words (%d misses)\" % (hits, misses))"
   ]
  },
  {
   "cell_type": "code",
   "execution_count": null,
   "metadata": {},
   "outputs": [],
   "source": [
    "def create_model(max_sequence_len, total_words):\n",
    "    input_len = max_sequence_len - 1\n",
    "    model = Sequential()\n",
    "    \n",
    "    # Add Input Embedding Layer - notice that this is different\n",
    "    model.add(Embedding(\n",
    "            total_words,\n",
    "            embedding_dim,\n",
    "            embeddings_initializer=tf.keras.initializers.Constant(embedding_matrix),\n",
    "            trainable=False,\n",
    "            input_length=input_len)\n",
    "    )\n",
    "    \n",
    "    # Add Hidden Layer 1 - LSTM Layer\n",
    "    model.add(LSTM(500))\n",
    "    model.add(Dropout(0.2))\n",
    "    \n",
    "    # Add Output Layer\n",
    "    model.add(Dense(total_words, \n",
    "                    activation='softmax'))\n",
    "\n",
    "    model.compile(loss='categorical_crossentropy', \n",
    "                    optimizer='adam')\n",
    "    \n",
    "    return model"
   ]
  },
  {
   "cell_type": "code",
   "execution_count": null,
   "metadata": {},
   "outputs": [],
   "source": [
    "model = create_model(max_sequence_len, total_words)\n",
    "model.summary()"
   ]
  },
  {
   "cell_type": "code",
   "execution_count": null,
   "metadata": {},
   "outputs": [],
   "source": [
    "history = model.fit(predictors, \n",
    "                    label, \n",
    "                    epochs=100,\n",
    "                    batch_size=128, \n",
    "                    verbose=1)"
   ]
  },
  {
   "cell_type": "code",
   "execution_count": null,
   "metadata": {},
   "outputs": [],
   "source": [
    "print (generate_text(\"china\", 30, model, max_sequence_len))"
   ]
  }
 ],
 "metadata": {
  "kernelspec": {
   "display_name": "Python 3",
   "language": "python",
   "name": "python3"
  },
  "language_info": {
   "codemirror_mode": {
    "name": "ipython",
    "version": 3
   },
   "file_extension": ".py",
   "mimetype": "text/x-python",
   "name": "python",
   "nbconvert_exporter": "python",
   "pygments_lexer": "ipython3",
   "version": "3.9.2"
  },
  "orig_nbformat": 4,
  "vscode": {
   "interpreter": {
    "hash": "767d51c1340bd893661ea55ea3124f6de3c7a262a8b4abca0554b478b1e2ff90"
   }
  }
 },
 "nbformat": 4,
 "nbformat_minor": 2
}
